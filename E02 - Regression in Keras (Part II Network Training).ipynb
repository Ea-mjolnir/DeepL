{
 "cells": [
  {
   "cell_type": "markdown",
   "metadata": {},
   "source": [
    "# Exercise 04 - Neural Networks for Regression in Keras\n",
    "\n",
    "## Part II - Constructing and training a model\n",
    "\n",
    "The main task of this exercise notebook is to build a neural network model of housing prices in California using the California census data. Our model should learn from this data and be able to predict the median housing price in any district, given all the other attributes.\n",
    "\n",
    "* This task is a typical **supervised learning task**, since we are given **labeled training examples** (each instance comes with the expected\n",
    "output, i.e., the district’s median housing price).\n",
    "* The task is also a typical **regression task**, since we are asked to predict a **continuous real value**.\n",
    "* More specifically, this is a **multiple regression problem** since the system will use **multiple features** to make a prediction (it\n",
    "will use the district’s population, the median income, etc.).\n",
    "* It is also a **univariate regression** problem since we are only trying to **predict a single value** for each district.\n",
    "\n",
    "## Learning Objectives\n",
    "\n",
    "- Setup a whole training and evaluation workflow in tensorflow / keras\n",
    "- Learn how to configure a neural network architecture to solve a regression task, and in particular:\n",
    "- Learn to define the output layer for regression task\n",
    "- Learn to define activation functions for regression\n",
    "- Understand the cost functions and metrics for regression\n",
    "- Understand and practice weight and bias initialization in Keras\n",
    "- Learn how to take advantage of the logs dictionary in Keras\n",
    "- Learn to define our own callbacks and check the progress of a model\n",
    "- Understand and practice EarlyStopping \n",
    "- Saving and loading a trained model\n",
    "\n",
    "Before you can start, find a GPU on the system that is not heavily used by other users (with **nvidia-smi**). Otherwise you cannot initialize your neural network."
   ]
  },
  {
   "cell_type": "code",
   "execution_count": 1,
   "metadata": {
    "tags": []
   },
   "outputs": [],
   "source": [
    "# Change X to the GPU number you want to use,\n",
    "# otherwise you will get a Python error\n",
    "# e.g. USE_GPU = 4\n",
    "USE_GPU = 6 # YOUR CHOICE"
   ]
  },
  {
   "cell_type": "code",
   "execution_count": 2,
   "metadata": {
    "tags": []
   },
   "outputs": [
    {
     "name": "stderr",
     "output_type": "stream",
     "text": [
      "2023-11-02 19:52:39.599605: I tensorflow/core/platform/cpu_feature_guard.cc:182] This TensorFlow binary is optimized to use available CPU instructions in performance-critical operations.\n",
      "To enable the following instructions: AVX2 FMA, in other operations, rebuild TensorFlow with the appropriate compiler flags.\n",
      "2023-11-02 19:52:40.495419: W tensorflow/compiler/tf2tensorrt/utils/py_utils.cc:38] TF-TRT Warning: Could not find TensorRT\n"
     ]
    },
    {
     "name": "stdout",
     "output_type": "stream",
     "text": [
      "TensorFlow version: 2.12.0\n",
      "\n",
      "Available GPU Devices:\n",
      "  /physical_device:GPU:0 GPU\n",
      "  /physical_device:GPU:1 GPU\n",
      "  /physical_device:GPU:2 GPU\n",
      "  /physical_device:GPU:3 GPU\n",
      "  /physical_device:GPU:4 GPU\n",
      "  /physical_device:GPU:5 GPU\n",
      "  /physical_device:GPU:6 GPU\n",
      "  /physical_device:GPU:7 GPU\n",
      "\n",
      "Visible GPU Devices:\n",
      "  /physical_device:GPU:6 GPU\n"
     ]
    }
   ],
   "source": [
    "# Import TensorFlow \n",
    "import tensorflow as tf\n",
    "\n",
    "# Print the installed TensorFlow version\n",
    "print(f'TensorFlow version: {tf.__version__}\\n')\n",
    "\n",
    "# Get all GPU devices on this server\n",
    "gpu_devices = tf.config.list_physical_devices('GPU')\n",
    "\n",
    "# Print the name and the type of all GPU devices\n",
    "print('Available GPU Devices:')\n",
    "for gpu in gpu_devices:\n",
    "    print(' ', gpu.name, gpu.device_type)\n",
    "    \n",
    "# Set only the GPU specified as USE_GPU to be visible\n",
    "tf.config.set_visible_devices(gpu_devices[USE_GPU], 'GPU')\n",
    "\n",
    "# Get all visible GPU  devices on this server\n",
    "visible_devices = tf.config.get_visible_devices('GPU')\n",
    "\n",
    "# Print the name and the type of all visible GPU devices\n",
    "print('\\nVisible GPU Devices:')\n",
    "for gpu in visible_devices:\n",
    "    print(' ', gpu.name, gpu.device_type)\n",
    "    \n",
    "# Set the visible device(s) to not allocate all available memory at once,\n",
    "# but rather let the memory grow whenever needed\n",
    "for gpu in visible_devices:\n",
    "    tf.config.experimental.set_memory_growth(gpu, True)"
   ]
  },
  {
   "cell_type": "markdown",
   "metadata": {},
   "source": [
    "## California housing dataset\n",
    "\n",
    "For more details on the dataset used in this exercise, please take a look at part I about exploratory data analysis.\n",
    "\n",
    "In the following, the data is loaded and stored in the respective folder."
   ]
  },
  {
   "cell_type": "code",
   "execution_count": 1,
   "metadata": {
    "tags": []
   },
   "outputs": [
    {
     "name": "stdout",
     "output_type": "stream",
     "text": [
      "Input : (20640, 8)\n",
      "Labels: (20640,)\n"
     ]
    }
   ],
   "source": [
    "import os\n",
    "from sklearn import datasets\n",
    "#from sklearn.datasets import fetch_california_housing\n",
    "\n",
    "if not os.path.exists('./datasets'):\n",
    "    os.mkdir('./datasets')\n",
    "    \n",
    "#X_full, y_full = fetch_california_housing(data_home = r'./datasets', return_X_y=True)\n",
    "\n",
    "X_full, y_full = datasets.fetch_california_housing(data_home=r'./datasets', download_if_missing=True, return_X_y=True, as_frame=False)\n",
    "\n",
    "print(\"Input :\", X_full.shape)\n",
    "print(\"Labels:\", y_full.shape)\n"
   ]
  },
  {
   "cell_type": "markdown",
   "metadata": {},
   "source": [
    "## Validation and test sets\n",
    "\n",
    "Evaluating a model always boils down to splitting your available data into three sets:\n",
    "training, validation, and test set. You train on the training data, and evaluate your model on the validation data. Once your model is ready to use, you test it one final time\n",
    "on the test data The reason is that developing a model always involves tuning its hyperparameters, e.g. picking the number of layers or the size of the layers. You do this tuning based on the feeback you get from the validation data, so in essence this tuning is a form of learning: a search for a good configuration in some hyperparameter space. As a result, tuning\n",
    "the configuration of the model based on its performance on the validation set can quickly result in overfitting to the validation set, even though your model is never being directly\n",
    "trained on it.\n",
    "\n",
    "Central to this phenomenon is the notion of \"information leak\". Every time you are tuning a hyperparameter of your model based on the model’s performance on the validation set, some information about the validation data is leaking into your model. If you only do this once, for one parameter, then very few bits of information would be leaking and your validation set would remain a reliable way to evaluate your model. But if you repeat this many times, running one experiment, evaluating on the validation set, modifying your model as a result, then you are leaking an increasingly significant amount of information about the validation set into your model. At the end of the day, you end up with a model that performs artificially well on the validation data, because it is what you optimized it for. But what you want in the end is a model that performa also well on unseen data, which is the test set.\n",
    "\n",
    "Splitting your data into a training, validation, and test sets may seem straightforward, but there are a few advanced ways to do it which can come in handy when very few data is available. Scikit-Learn provides a several functions to split datasets into multiple subsets in various ways. The simplest function is [train_test_split](https://scikit-learn.org/stable/modules/generated/sklearn.model_selection.train_test_split.html?highlight=train%20test%20split#sklearn.model_selection.train_test_split). It has a key-value argument `random_state parameter` that allows you to set the random generator seed, which allows us to reproduce the results. This is sometimes helpful when experimenting with your data. If you do not provide any value as seed value, the split would be totally random.\n",
    "\n",
    "We first split into training data and test data."
   ]
  },
  {
   "cell_type": "code",
   "execution_count": 3,
   "metadata": {},
   "outputs": [
    {
     "name": "stdout",
     "output_type": "stream",
     "text": [
      "The test dataset comprises of 14448 samples.\n",
      "The test dataset comprises of 6192 samples.\n"
     ]
    }
   ],
   "source": [
    "from sklearn.model_selection import train_test_split\n",
    "\n",
    "X_train_full, X_test, y_train_full, y_test = train_test_split(X_full, y_full, test_size=0.3, random_state=42,shuffle=True)\n",
    "\n",
    "print(f'The test dataset comprises of {X_train_full.shape[0]} samples.')\n",
    "print(f'The test dataset comprises of {X_test.shape[0]} samples.')"
   ]
  },
  {
   "cell_type": "markdown",
   "metadata": {},
   "source": [
    "And furthermore, we split the just received trainig data in an even smaller training set and a validation set. As usual, we will use the validation set to follow the progress of the training on samples not seen during the training which will help us to tune the training hyperparameters."
   ]
  },
  {
   "cell_type": "code",
   "execution_count": 4,
   "metadata": {},
   "outputs": [
    {
     "name": "stdout",
     "output_type": "stream",
     "text": [
      "The training dataset comprises of 11558 samples.\n",
      "The validation dataset comprises of 2890 samples.\n"
     ]
    }
   ],
   "source": [
    "X_train, X_valid, y_train, y_valid  = train_test_split(X_train_full, y_train_full, test_size=0.2, random_state=42,shuffle=True)\n",
    "\n",
    "print(f'The training dataset comprises of {X_train.shape[0]} samples.')\n",
    "\n",
    "print(f'The validation dataset comprises of {X_valid.shape[0]} samples.')"
   ]
  },
  {
   "cell_type": "markdown",
   "metadata": {},
   "source": [
    "## Feature Scaling\n",
    "\n",
    "One of the most important transformations you need to apply to your data is feature scaling. With few exceptions, machine learning algorithms don’t perform well when the numerical input attributes have very different scales. This is the case for the housing data: the average number of rooms ranges from about 0.84 to 141, while the median income only ranges from 0 to 15. Note that scaling the *target values* is generally not required.\n",
    "\n",
    "There are two common ways to get all attributes to have the same scale: `min-max scaling` and `standardization`.\n",
    "- Normalization (min-max scaling) is a rescaling of the data from the original range so that all values are within the new range of 0.0 and 1.0.\n",
    "- Standardization requires that you know or are able to accurately estimate the mean and standard deviation of observable values. You may be able to estimate these values from your training data, not the entire dataset.\n",
    "Subtracting the mean from the data is called centering, whereas dividing by the standard deviation is called scaling. Therefore, the method is sometimes also called “center scaling“.\n",
    "Unlike min-max scaling, standardization does not bound values to a specific range, which may be a problem for some algorithms (e.g., neural networks often expect an input value ranging from 0.0 to 1.0). However, standardization is much less affected by outliers.\n",
    "\n",
    "In order to standardise our data, we will use the [StandardScaler](https://scikit-learn.org/stable/modules/generated/sklearn.preprocessing.StandardScaler.html) class of sklearn. After importing the `StandardScaler` class, we construct an object from it and assign it to a variable. Using the `fit_transform()` method of the scaler, we then fit the training data to the scaler, i.e. compute the mean and unit standard deviation for each input features, and transform the training data accordingly. The mean and unit standard deviation (or equivalently the unit variance) can now be accessed with the `mean_` and `var_` attributes of the scaler object. At this point, we can transform the validation and test data with the same transformation using the `transform()` method of the scaler.\n",
    "\n",
    "As with all the data transformations, it is important to **fit the scalers to the training data only!!!**, not to the full dataset (including the test set). Only then can you use them to transform the training set and the test set (as well as unseen data)."
   ]
  },
  {
   "cell_type": "code",
   "execution_count": 5,
   "metadata": {},
   "outputs": [
    {
     "name": "stdout",
     "output_type": "stream",
     "text": [
      "Train means: [ 3.86680659e+00  2.86249351e+01  5.42685245e+00  1.09826677e+00\n",
      "  1.41967494e+03  3.04258309e+00  3.56349464e+01 -1.19575345e+02]\n",
      "\n",
      "Train standard deviations: [3.60743143e+00 1.57213280e+02 4.84020924e+00 1.61564061e-01\n",
      " 1.29321941e+06 5.36117532e+01 4.55228963e+00 3.99697923e+00]\n",
      "\n"
     ]
    }
   ],
   "source": [
    "from sklearn.preprocessing import StandardScaler\n",
    "\n",
    "std_scaler = StandardScaler()\n",
    "\n",
    "X_train_scaled = std_scaler.fit_transform(X_train)\n",
    "\n",
    "print(f'Train means: {std_scaler.mean_}\\n')\n",
    "\n",
    "print(f'Train standard deviations: {std_scaler.var_}\\n') \n",
    "\n",
    "X_valid_scaled = std_scaler.transform(X_valid)\n",
    "X_test_scaled = std_scaler.transform(X_test)"
   ]
  },
  {
   "cell_type": "markdown",
   "metadata": {},
   "source": [
    "## Neural network model for regression\n",
    "    \n",
    "Building, training, evaluating and using a regression neural network using the Sequential API to make predictions is quite similar to what we did for classification. Because the dataset is quite noisy and of reduced size, we will just use a single hidden layer with 32 neurons to avoid overfitting. The shape of the input layer is (8,), which is a vector of 8 values, our features from the housing data. In contrast to the classification task, where the output is a set of probabilities corresponding to each categories of a pre-defined set, the output of regression is a continuous, real number. Consequently, **the output layer has only a single neuron**, since we only want to predict a single value, and uses no activation function. (If we would predict n numbers, we would use n neurons in the output layer.)"
   ]
  },
  {
   "cell_type": "code",
   "execution_count": 6,
   "metadata": {},
   "outputs": [
    {
     "name": "stderr",
     "output_type": "stream",
     "text": [
      "2024-03-23 16:48:41.139664: I tensorflow/core/platform/cpu_feature_guard.cc:182] This TensorFlow binary is optimized to use available CPU instructions in performance-critical operations.\n",
      "To enable the following instructions: AVX2 FMA, in other operations, rebuild TensorFlow with the appropriate compiler flags.\n",
      "2024-03-23 16:48:41.765005: W tensorflow/compiler/tf2tensorrt/utils/py_utils.cc:38] TF-TRT Warning: Could not find TensorRT\n",
      "2024-03-23 16:48:47.282476: I tensorflow/core/common_runtime/gpu/gpu_device.cc:1635] Created device /job:localhost/replica:0/task:0/device:GPU:0 with 14744 MB memory:  -> device: 0, name: Quadro RTX 5000, pci bus id: 0000:01:00.0, compute capability: 7.5\n",
      "2024-03-23 16:48:47.284401: I tensorflow/core/common_runtime/gpu/gpu_device.cc:1635] Created device /job:localhost/replica:0/task:0/device:GPU:1 with 14744 MB memory:  -> device: 1, name: Quadro RTX 5000, pci bus id: 0000:24:00.0, compute capability: 7.5\n",
      "2024-03-23 16:48:47.286081: I tensorflow/core/common_runtime/gpu/gpu_device.cc:1635] Created device /job:localhost/replica:0/task:0/device:GPU:2 with 14744 MB memory:  -> device: 2, name: Quadro RTX 5000, pci bus id: 0000:41:00.0, compute capability: 7.5\n",
      "2024-03-23 16:48:47.287794: I tensorflow/core/common_runtime/gpu/gpu_device.cc:1635] Created device /job:localhost/replica:0/task:0/device:GPU:3 with 14744 MB memory:  -> device: 3, name: Quadro RTX 5000, pci bus id: 0000:61:00.0, compute capability: 7.5\n",
      "2024-03-23 16:48:47.289404: I tensorflow/core/common_runtime/gpu/gpu_device.cc:1635] Created device /job:localhost/replica:0/task:0/device:GPU:4 with 14744 MB memory:  -> device: 4, name: Quadro RTX 5000, pci bus id: 0000:81:00.0, compute capability: 7.5\n",
      "2024-03-23 16:48:47.291031: I tensorflow/core/common_runtime/gpu/gpu_device.cc:1635] Created device /job:localhost/replica:0/task:0/device:GPU:5 with 14744 MB memory:  -> device: 5, name: Quadro RTX 5000, pci bus id: 0000:a1:00.0, compute capability: 7.5\n",
      "2024-03-23 16:48:47.292636: I tensorflow/core/common_runtime/gpu/gpu_device.cc:1635] Created device /job:localhost/replica:0/task:0/device:GPU:6 with 14744 MB memory:  -> device: 6, name: Quadro RTX 5000, pci bus id: 0000:c1:00.0, compute capability: 7.5\n",
      "2024-03-23 16:48:47.294249: I tensorflow/core/common_runtime/gpu/gpu_device.cc:1635] Created device /job:localhost/replica:0/task:0/device:GPU:7 with 14744 MB memory:  -> device: 7, name: Quadro RTX 5000, pci bus id: 0000:e1:00.0, compute capability: 7.5\n"
     ]
    }
   ],
   "source": [
    "from tensorflow.keras import Sequential\n",
    "from tensorflow.keras.layers import Dense, ReLU,Dropout\n",
    "from tensorflow.keras.regularizers import l2\n",
    "\n",
    "\n",
    "# This architecture is optimal for a better mse for both training and validation.\n",
    "# Define the L2 regularization strength\n",
    "l2_lambda = 0.001  \n",
    "\n",
    "model = Sequential([\n",
    "   Dense(100, activation=\"relu\",kernel_regularizer=l2(l2_lambda),input_shape=(X_train.shape[1],)),\n",
    "   Dense(60, activation='relu',kernel_regularizer=l2(l2_lambda)),\n",
    "   Dense(10, activation='relu', kernel_regularizer=l2(l2_lambda)),\n",
    "   Dense(1)\n",
    "])\n",
    "\n",
    "# Architecture 2 which is not optimal since the mse is large compared to the first achitecture\n",
    "\n",
    "#model = Sequential([\n",
    "#    Dense(100, activation=\"relu\", input_shape=(X_train.shape[1],)),\n",
    "#    Dense(50, activation='relu'),\n",
    "#    Dense(20, activation='relu'),\n",
    "#    Dropout(0.1),  # Adding dropout for regularization\n",
    "#    Dense(10, activation='relu'),\n",
    "#    Dense(1)\n",
    "#])"
   ]
  },
  {
   "cell_type": "markdown",
   "metadata": {},
   "source": [
    "Another important difference (to classification) is the used loss function needed to train the network. Here, we use the mean squared error, referenced by the string `mean_squared_error` or `mse` in TensorFlow. (You can use either `mean_squared_error` or `mse`, it does not matter. The only difference is that the fit methods outputs the string in one way or the other, so in the first case, your output string is quite long.) The mean squared error takes the sum of the squared differences between the predicted values and the real values.\n",
    "\n",
    "Further popular loss functions are mean of absolute error (MAE) or Huber loss.\n",
    "\n",
    "When compiling our model, we define the loss function and the performance metrics to be the mean squared error. Actually, we would not even need the performance metrics, since the loss and the performance metrics are both the mse, and would give the same value. But it might be easier to read the output, since it now explicitly states the mse, and not just a loss value that we might have forgotten to be the mse."
   ]
  },
  {
   "cell_type": "code",
   "execution_count": 8,
   "metadata": {},
   "outputs": [],
   "source": [
    "# Using accuracy as a metric for a regression task is not appropriate, and it may lead to misleading results.\n",
    "# Accuracy is typically used for classification tasks to measure how many of the predictions match the \n",
    "# actual classes. In a regression task, the goal is to predict continuous values, not classes, so accuracy\n",
    "#is not a meaningful metric. One can use mse,mae,r2 \n",
    "\n",
    "model.compile(loss=\"mse\", optimizer=tf.keras.optimizers.Adam(learning_rate=0.001), metrics=\"mse\")\n",
    "\n",
    "#model.compile(loss=\"mse\", optimizer=tf.keras.optimizers.SGD(learning_rate=1e-2), metrics=\"mse\")"
   ]
  },
  {
   "cell_type": "markdown",
   "metadata": {},
   "source": [
    "Now, you can fit the model to the training data using the scaled training data, the (unscaled) labels of the training data, and evaluate by the scaled validation data, and the unscaled evaluation labels."
   ]
  },
  {
   "cell_type": "code",
   "execution_count": 9,
   "metadata": {},
   "outputs": [
    {
     "name": "stdout",
     "output_type": "stream",
     "text": [
      "Epoch 1/20\n"
     ]
    },
    {
     "name": "stderr",
     "output_type": "stream",
     "text": [
      "2023-11-02 19:52:43.636502: I tensorflow/compiler/xla/service/service.cc:169] XLA service 0x7fdf4c0186c0 initialized for platform CUDA (this does not guarantee that XLA will be used). Devices:\n",
      "2023-11-02 19:52:43.636580: I tensorflow/compiler/xla/service/service.cc:177]   StreamExecutor device (0): Quadro RTX 5000, Compute Capability 7.5\n",
      "2023-11-02 19:52:43.640781: I tensorflow/compiler/mlir/tensorflow/utils/dump_mlir_util.cc:269] disabling MLIR crash reproducer, set env var `MLIR_CRASH_REPRODUCER_DIRECTORY` to enable.\n",
      "2023-11-02 19:52:43.765457: I tensorflow/compiler/xla/stream_executor/cuda/cuda_dnn.cc:424] Loaded cuDNN version 8700\n",
      "2023-11-02 19:52:43.886834: I ./tensorflow/compiler/jit/device_compiler.h:180] Compiled cluster using XLA!  This line is logged at most once for the lifetime of the process.\n"
     ]
    },
    {
     "name": "stdout",
     "output_type": "stream",
     "text": [
      "362/362 [==============================] - 3s 2ms/step - loss: 0.9381 - mse: 0.8410 - val_loss: 0.4954 - val_mse: 0.4031\n",
      "Epoch 2/20\n",
      "362/362 [==============================] - 1s 2ms/step - loss: 0.4732 - mse: 0.3844 - val_loss: 0.4617 - val_mse: 0.3760\n",
      "Epoch 3/20\n",
      "362/362 [==============================] - 1s 2ms/step - loss: 0.4418 - mse: 0.3590 - val_loss: 0.6214 - val_mse: 0.5411\n",
      "Epoch 4/20\n",
      "362/362 [==============================] - 1s 2ms/step - loss: 0.4268 - mse: 0.3489 - val_loss: 0.4260 - val_mse: 0.3505\n",
      "Epoch 5/20\n",
      "362/362 [==============================] - 1s 2ms/step - loss: 0.4121 - mse: 0.3385 - val_loss: 0.4093 - val_mse: 0.3378\n",
      "Epoch 6/20\n",
      "362/362 [==============================] - 1s 2ms/step - loss: 0.3974 - mse: 0.3274 - val_loss: 0.4733 - val_mse: 0.4049\n",
      "Epoch 7/20\n",
      "362/362 [==============================] - 1s 2ms/step - loss: 0.3840 - mse: 0.3172 - val_loss: 0.4089 - val_mse: 0.3435\n",
      "Epoch 8/20\n",
      "362/362 [==============================] - 1s 2ms/step - loss: 0.3886 - mse: 0.3246 - val_loss: 0.3913 - val_mse: 0.3288\n",
      "Epoch 9/20\n",
      "362/362 [==============================] - 1s 2ms/step - loss: 0.3761 - mse: 0.3148 - val_loss: 0.3778 - val_mse: 0.3178\n",
      "Epoch 10/20\n",
      "362/362 [==============================] - 1s 2ms/step - loss: 0.3678 - mse: 0.3090 - val_loss: 0.4868 - val_mse: 0.4292\n",
      "Epoch 11/20\n",
      "362/362 [==============================] - 1s 2ms/step - loss: 0.3629 - mse: 0.3063 - val_loss: 0.3996 - val_mse: 0.3442\n",
      "Epoch 12/20\n",
      "362/362 [==============================] - 1s 2ms/step - loss: 0.3613 - mse: 0.3068 - val_loss: 0.3691 - val_mse: 0.3155\n",
      "Epoch 13/20\n",
      "362/362 [==============================] - 1s 2ms/step - loss: 0.3580 - mse: 0.3053 - val_loss: 0.3685 - val_mse: 0.3168\n",
      "Epoch 14/20\n",
      "362/362 [==============================] - 1s 2ms/step - loss: 0.3506 - mse: 0.2997 - val_loss: 0.3659 - val_mse: 0.3155\n",
      "Epoch 15/20\n",
      "362/362 [==============================] - 1s 2ms/step - loss: 0.3482 - mse: 0.2986 - val_loss: 0.3660 - val_mse: 0.3171\n",
      "Epoch 16/20\n",
      "362/362 [==============================] - 1s 2ms/step - loss: 0.3455 - mse: 0.2972 - val_loss: 0.3597 - val_mse: 0.3122\n",
      "Epoch 17/20\n",
      "362/362 [==============================] - 1s 2ms/step - loss: 0.3409 - mse: 0.2938 - val_loss: 0.3522 - val_mse: 0.3056\n",
      "Epoch 18/20\n",
      "362/362 [==============================] - 1s 2ms/step - loss: 0.3380 - mse: 0.2919 - val_loss: 0.3703 - val_mse: 0.3249\n",
      "Epoch 19/20\n",
      "362/362 [==============================] - 1s 2ms/step - loss: 0.3378 - mse: 0.2928 - val_loss: 0.3451 - val_mse: 0.3006\n",
      "Epoch 20/20\n",
      "362/362 [==============================] - 1s 2ms/step - loss: 0.3377 - mse: 0.2934 - val_loss: 0.3434 - val_mse: 0.2995\n"
     ]
    }
   ],
   "source": [
    "history = model.fit(X_train_scaled, y_train,\n",
    "                    batch_size=32,\n",
    "                    epochs=20,\n",
    "                    validation_data=(X_valid_scaled, y_valid))"
   ]
  },
  {
   "cell_type": "code",
   "execution_count": 10,
   "metadata": {
    "tags": []
   },
   "outputs": [
    {
     "data": {
      "image/png": "[encoded data removed]",
      "text/plain": [
       "<Figure size 800x300 with 2 Axes>"
      ]
     },
     "metadata": {},
     "output_type": "display_data"
    }
   ],
   "source": [
    "import matplotlib.pyplot as plt\n",
    "\n",
    "# Create a figure with two subplots side by side\n",
    "fig, axs = plt.subplots(1, 2, figsize=(8, 3))\n",
    "\n",
    "# Plotting the training and validation loss\n",
    "axs[0].plot(history.history['loss'], label='Training Loss')\n",
    "axs[0].plot(history.history['val_loss'], label='Validation Loss')\n",
    "axs[0].set_title('Training and Validation Loss')\n",
    "axs[0].set_xlabel('Epoch')\n",
    "axs[0].set_ylabel('Mean Square Error')\n",
    "axs[0].legend()\n",
    "\n",
    "# Plotting the training and validation MSE\n",
    "axs[1].plot(history.history['mse'], label='Training_mean Square Error')\n",
    "axs[1].plot(history.history['val_mse'], label='Validation_Mean Square Error')\n",
    "axs[1].set_title('Training and Validation Mean Square Error')\n",
    "axs[1].set_xlabel('Epoch')\n",
    "axs[1].set_ylabel('Mean Square Error')\n",
    "axs[1].legend()\n",
    "\n",
    "plt.tight_layout() \n",
    "plt.show()\n"
   ]
  },
  {
   "cell_type": "markdown",
   "metadata": {},
   "source": [
    "## Early stopping callback\n",
    "\n",
    "When training a model we cannot predict a-priori *how many epochs* will be needed to get to an *optimal validation loss*. One empirical method is to train a model for a fixed number of epochs, in general large enough that it would start overfitting, and using this first run to figure out the proper number of epochs to train, and finally launch a new training run from scratch with this optimal number of epochs.\n",
    "\n",
    "A much better way to handle this would be to stop training when we measure that the validation loss has stopped improving. This can be achieved using a Keras `callback` object. A callback is an object (a class instance implementing specific methods) that is passed to the `model` in the call to `fit` and that is called by the model at various points during training. It has access to all the data available about the state of the model and its performance, and it is capable to take action, for instance interrupting training, saving a model, loading a different weight set, or otherwise altering the state of the model (depending on the type of call back).\n",
    "\n",
    "**Callbacks can be used for:**\n",
    "- Model checkpointing: saving the current weights of the model at different points during training.\n",
    "- Early stopping: interrupting training when the validation loss has stopped improving (and of course, saving the best model obtained during training).\n",
    "- Dynamically adjusting the value of certain parameters during training, such as the learning rate of the optimizer.\n",
    "- Logging the training and validation metrics during training, or visualizing the representations learned by the model as they get updated. \n",
    "- And more …\n",
    "\n",
    "There are a number of built-in callbacks found in the `tf.keras.callbacks` [module](https://www.tensorflow.org/api_docs/python/tf/keras/callbacks).\n",
    "\n",
    "In the following, we define an early stopping callback to interrupt the training process once the loss (MSE) has stopped improving for a defined number of epochs. In our example, the validation loss (`val_loss`) is monitored, and if the difference between two successive loss values is less than a specified value (`min_delta`) for a number of epochs (`patience`), then the training is stopped. Meaning, if the loss has not improved by this min_delta over the patience number of epochs, then this callback will stop the training process.\n",
    "\n",
    "Create a list of callbacks that contains, in our example, just an `EarlyStopping` class callback with the above described arguments."
   ]
  },
  {
   "cell_type": "code",
   "execution_count": 11,
   "metadata": {},
   "outputs": [],
   "source": [
    "# We only use this when there is an overfitting in the model in relation to the training and validation data\n",
    "# We are trying to improve the performance of the validation through early stopping to prevent overfiting.\n",
    "# I think the architecture is good enough, but will still go throught the callback to see the changes in the plot.\n",
    "\n",
    "callbacks_list = [\n",
    "    tf.keras.callbacks.EarlyStopping(monitor= 'val_loss', min_delta = .0001, patience = 10, restore_best_weights=True)\n",
    "]\n"
   ]
  },
  {
   "cell_type": "markdown",
   "metadata": {},
   "source": [
    "We construct a new model, compile it, and to fit the data, we pass the list of callbacks to the fit() method of the model. This time we define the training process to use 50 epochs."
   ]
  },
  {
   "cell_type": "code",
   "execution_count": 12,
   "metadata": {},
   "outputs": [
    {
     "name": "stdout",
     "output_type": "stream",
     "text": [
      "Epoch 1/50\n",
      "362/362 [==============================] - 2s 2ms/step - loss: 0.9023 - mse: 0.8015 - val_loss: 0.5112 - val_mse: 0.4160\n",
      "Epoch 2/50\n",
      "362/362 [==============================] - 1s 2ms/step - loss: 0.4765 - mse: 0.3851 - val_loss: 0.6432 - val_mse: 0.5555\n",
      "Epoch 3/50\n",
      "362/362 [==============================] - 1s 2ms/step - loss: 0.4598 - mse: 0.3751 - val_loss: 0.4634 - val_mse: 0.3817\n",
      "Epoch 4/50\n",
      "362/362 [==============================] - 1s 2ms/step - loss: 0.4261 - mse: 0.3469 - val_loss: 0.4317 - val_mse: 0.3548\n",
      "Epoch 5/50\n",
      "362/362 [==============================] - 1s 2ms/step - loss: 0.4092 - mse: 0.3343 - val_loss: 0.4853 - val_mse: 0.4122\n",
      "Epoch 6/50\n",
      "362/362 [==============================] - 1s 2ms/step - loss: 0.3974 - mse: 0.3264 - val_loss: 0.4043 - val_mse: 0.3348\n",
      "Epoch 7/50\n",
      "362/362 [==============================] - 1s 2ms/step - loss: 0.3819 - mse: 0.3139 - val_loss: 0.3878 - val_mse: 0.3216\n",
      "Epoch 8/50\n",
      "362/362 [==============================] - 1s 2ms/step - loss: 0.3728 - mse: 0.3081 - val_loss: 0.3858 - val_mse: 0.3225\n",
      "Epoch 9/50\n",
      "362/362 [==============================] - 1s 2ms/step - loss: 0.3688 - mse: 0.3069 - val_loss: 0.3748 - val_mse: 0.3141\n",
      "Epoch 10/50\n",
      "362/362 [==============================] - 1s 2ms/step - loss: 0.3597 - mse: 0.3004 - val_loss: 0.3709 - val_mse: 0.3127\n",
      "Epoch 11/50\n",
      "362/362 [==============================] - 1s 2ms/step - loss: 0.3587 - mse: 0.3017 - val_loss: 0.3732 - val_mse: 0.3173\n",
      "Epoch 12/50\n",
      "362/362 [==============================] - 1s 2ms/step - loss: 0.3498 - mse: 0.2950 - val_loss: 0.3611 - val_mse: 0.3073\n",
      "Epoch 13/50\n",
      "362/362 [==============================] - 1s 2ms/step - loss: 0.3453 - mse: 0.2926 - val_loss: 0.4011 - val_mse: 0.3494\n",
      "Epoch 14/50\n",
      "362/362 [==============================] - 1s 2ms/step - loss: 0.3446 - mse: 0.2938 - val_loss: 0.3525 - val_mse: 0.3029\n",
      "Epoch 15/50\n",
      "362/362 [==============================] - 1s 2ms/step - loss: 0.3383 - mse: 0.2895 - val_loss: 0.3542 - val_mse: 0.3059\n",
      "Epoch 16/50\n",
      "362/362 [==============================] - 1s 2ms/step - loss: 0.3344 - mse: 0.2869 - val_loss: 0.3520 - val_mse: 0.3054\n",
      "Epoch 17/50\n",
      "362/362 [==============================] - 1s 2ms/step - loss: 0.3291 - mse: 0.2831 - val_loss: 0.3616 - val_mse: 0.3163\n",
      "Epoch 18/50\n",
      "362/362 [==============================] - 1s 2ms/step - loss: 0.3279 - mse: 0.2833 - val_loss: 0.3347 - val_mse: 0.2905\n",
      "Epoch 19/50\n",
      "362/362 [==============================] - 1s 2ms/step - loss: 0.3391 - mse: 0.2952 - val_loss: 0.3393 - val_mse: 0.2958\n",
      "Epoch 20/50\n",
      "362/362 [==============================] - 1s 2ms/step - loss: 0.3296 - mse: 0.2864 - val_loss: 0.3367 - val_mse: 0.2938\n",
      "Epoch 21/50\n",
      "362/362 [==============================] - 1s 2ms/step - loss: 0.3226 - mse: 0.2802 - val_loss: 0.3457 - val_mse: 0.3038\n",
      "Epoch 22/50\n",
      "362/362 [==============================] - 1s 2ms/step - loss: 0.3214 - mse: 0.2798 - val_loss: 0.3353 - val_mse: 0.2940\n",
      "Epoch 23/50\n",
      "362/362 [==============================] - 1s 2ms/step - loss: 0.3179 - mse: 0.2769 - val_loss: 0.3234 - val_mse: 0.2828\n",
      "Epoch 24/50\n",
      "362/362 [==============================] - 1s 2ms/step - loss: 0.3174 - mse: 0.2771 - val_loss: 0.3238 - val_mse: 0.2839\n",
      "Epoch 25/50\n",
      "362/362 [==============================] - 1s 2ms/step - loss: 0.3161 - mse: 0.2764 - val_loss: 0.3397 - val_mse: 0.3002\n",
      "Epoch 26/50\n",
      "362/362 [==============================] - 1s 2ms/step - loss: 0.3140 - mse: 0.2747 - val_loss: 0.3291 - val_mse: 0.2901\n",
      "Epoch 27/50\n",
      "362/362 [==============================] - 1s 2ms/step - loss: 0.3109 - mse: 0.2723 - val_loss: 0.3690 - val_mse: 0.3306\n",
      "Epoch 28/50\n",
      "362/362 [==============================] - 1s 2ms/step - loss: 0.3132 - mse: 0.2749 - val_loss: 0.4198 - val_mse: 0.3817\n",
      "Epoch 29/50\n",
      "362/362 [==============================] - 1s 2ms/step - loss: 0.3087 - mse: 0.2709 - val_loss: 0.3272 - val_mse: 0.2896\n",
      "Epoch 30/50\n",
      "362/362 [==============================] - 1s 2ms/step - loss: 0.3092 - mse: 0.2717 - val_loss: 0.3466 - val_mse: 0.3094\n",
      "Epoch 31/50\n",
      "362/362 [==============================] - 1s 2ms/step - loss: 0.3097 - mse: 0.2729 - val_loss: 0.3196 - val_mse: 0.2828\n",
      "Epoch 32/50\n",
      "362/362 [==============================] - 1s 2ms/step - loss: 0.3053 - mse: 0.2685 - val_loss: 0.3287 - val_mse: 0.2920\n",
      "Epoch 33/50\n",
      "362/362 [==============================] - 1s 2ms/step - loss: 0.3091 - mse: 0.2727 - val_loss: 0.3180 - val_mse: 0.2817\n",
      "Epoch 34/50\n",
      "362/362 [==============================] - 1s 2ms/step - loss: 0.3046 - mse: 0.2685 - val_loss: 0.3156 - val_mse: 0.2797\n",
      "Epoch 35/50\n",
      "362/362 [==============================] - 1s 2ms/step - loss: 0.3014 - mse: 0.2655 - val_loss: 0.3218 - val_mse: 0.2860\n",
      "Epoch 36/50\n",
      "362/362 [==============================] - 1s 2ms/step - loss: 0.3029 - mse: 0.2671 - val_loss: 0.3271 - val_mse: 0.2916\n",
      "Epoch 37/50\n",
      "362/362 [==============================] - 1s 2ms/step - loss: 0.3031 - mse: 0.2676 - val_loss: 0.3236 - val_mse: 0.2882\n",
      "Epoch 38/50\n",
      "362/362 [==============================] - 1s 2ms/step - loss: 0.3016 - mse: 0.2662 - val_loss: 0.3124 - val_mse: 0.2773\n",
      "Epoch 39/50\n",
      "362/362 [==============================] - 1s 2ms/step - loss: 0.3004 - mse: 0.2653 - val_loss: 0.3255 - val_mse: 0.2905\n",
      "Epoch 40/50\n",
      "362/362 [==============================] - 1s 2ms/step - loss: 0.3007 - mse: 0.2657 - val_loss: 0.3288 - val_mse: 0.2941\n",
      "Epoch 41/50\n",
      "362/362 [==============================] - 1s 2ms/step - loss: 0.2985 - mse: 0.2637 - val_loss: 0.3085 - val_mse: 0.2739\n",
      "Epoch 42/50\n",
      "362/362 [==============================] - 1s 2ms/step - loss: 0.2989 - mse: 0.2642 - val_loss: 0.3173 - val_mse: 0.2829\n",
      "Epoch 43/50\n",
      "362/362 [==============================] - 1s 2ms/step - loss: 0.2971 - mse: 0.2628 - val_loss: 0.3141 - val_mse: 0.2799\n",
      "Epoch 44/50\n",
      "362/362 [==============================] - 1s 2ms/step - loss: 0.2947 - mse: 0.2605 - val_loss: 0.3122 - val_mse: 0.2781\n",
      "Epoch 45/50\n",
      "362/362 [==============================] - 1s 2ms/step - loss: 0.2937 - mse: 0.2596 - val_loss: 0.3141 - val_mse: 0.2799\n",
      "Epoch 46/50\n",
      "362/362 [==============================] - 1s 2ms/step - loss: 0.2941 - mse: 0.2600 - val_loss: 0.3086 - val_mse: 0.2748\n",
      "Epoch 47/50\n",
      "362/362 [==============================] - 1s 2ms/step - loss: 0.2970 - mse: 0.2632 - val_loss: 0.3303 - val_mse: 0.2964\n",
      "Epoch 48/50\n",
      "362/362 [==============================] - 1s 2ms/step - loss: 0.2962 - mse: 0.2626 - val_loss: 0.3165 - val_mse: 0.2829\n",
      "Epoch 49/50\n",
      "362/362 [==============================] - 1s 2ms/step - loss: 0.2926 - mse: 0.2590 - val_loss: 0.3111 - val_mse: 0.2777\n",
      "Epoch 50/50\n",
      "362/362 [==============================] - 1s 2ms/step - loss: 0.2914 - mse: 0.2579 - val_loss: 0.3106 - val_mse: 0.2771\n"
     ]
    }
   ],
   "source": [
    "l2_lambda = 0.001  \n",
    "\n",
    "model = Sequential([\n",
    "   Dense(100, activation=\"relu\",kernel_regularizer=l2(l2_lambda),input_shape=(X_train.shape[1],)),\n",
    "   Dense(60, activation='relu',kernel_regularizer=l2(l2_lambda)),\n",
    "   Dense(10, activation='relu', kernel_regularizer=l2(l2_lambda)),\n",
    "   Dense(1)\n",
    "])\n",
    "\n",
    "#model.compile(loss=\"mse\", optimizer=tf.keras.optimizers.SGD(learning_rate=1e-2), metrics=\"mse\")\n",
    "\n",
    "model.compile(loss=\"mse\", optimizer=tf.keras.optimizers.Adam(learning_rate=0.001), metrics=\"mse\")\n",
    "\n",
    "history = model.fit(X_train_scaled, y_train, \n",
    "                    batch_size=32,\n",
    "                    epochs=50,\n",
    "                    validation_data=(X_valid_scaled, y_valid),\n",
    "                    callbacks = callbacks_list)"
   ]
  },
  {
   "cell_type": "markdown",
   "metadata": {},
   "source": [
    "After around 64 epochs, the training process stops, because the loss value of the validation data did not improve anymore in the last 8 epochs by the specified value."
   ]
  },
  {
   "cell_type": "code",
   "execution_count": 13,
   "metadata": {},
   "outputs": [
    {
     "data": {
      "image/png": "[encoded data removed]",
      "text/plain": [
       "<Figure size 800x300 with 2 Axes>"
      ]
     },
     "metadata": {},
     "output_type": "display_data"
    }
   ],
   "source": [
    "import matplotlib.pyplot as plt\n",
    "\n",
    "# Create a figure with two subplots side by side\n",
    "fig, axs = plt.subplots(1, 2, figsize=(8, 3))\n",
    "\n",
    "# Plotting the training and validation loss\n",
    "axs[0].plot(history.history['loss'], label='Training Loss')\n",
    "axs[0].plot(history.history['val_loss'], label='Validation Loss')\n",
    "axs[0].set_title('Training and Validation Loss')\n",
    "axs[0].set_xlabel('Epoch')\n",
    "axs[0].set_ylabel('Mean Square Error')\n",
    "axs[0].legend()\n",
    "\n",
    "# Plotting the training and validation MSE\n",
    "axs[1].plot(history.history['mse'], label='Training_mean Square Error')\n",
    "axs[1].plot(history.history['val_mse'], label='Validation_Mean Square Error')\n",
    "axs[1].set_title('Training and Validation Mean Square Error')\n",
    "axs[1].set_xlabel('Epoch')\n",
    "axs[1].set_ylabel('Mean Square Error')\n",
    "axs[1].legend()\n",
    "\n",
    "plt.tight_layout() \n",
    "plt.show()\n"
   ]
  },
  {
   "cell_type": "markdown",
   "metadata": {},
   "source": [
    "## The training history\n",
    "The call to `model.fit()` returns a `History` object. This object has a member `history`, which is a dictionary containing the values of the loss and chosen metrics on the training and validation set during each training epoch. Since the 'history' attribute is a python dictionary, you can retrive the keys using the `.keys()` method. The `logs` dictionary stores the loss value, along with all of the metrics we are using at the end of a batch or epoch.\n",
    "\n",
    "In the following, a method `plot_loss()` is implemented that takes this history object and plots the training and validation loss using matplotlib. "
   ]
  },
  {
   "cell_type": "code",
   "execution_count": 14,
   "metadata": {},
   "outputs": [],
   "source": [
    "import matplotlib.pyplot as plt\n",
    "\n",
    "def plot_loss(history):\n",
    "    loss = history.history['loss']\n",
    "    val_loss = history.history['val_loss']\n",
    "    plt.plot(loss, label='loss')\n",
    "    plt.plot(val_loss, label='val_loss')\n",
    "    plt.ylim([0.2, 1.6])\n",
    "    plt.xlabel('Epoch')\n",
    "    plt.ylabel('Loss ')\n",
    "    plt.legend()\n",
    "    plt.grid(True)\n",
    "    plt.show()"
   ]
  },
  {
   "cell_type": "markdown",
   "metadata": {},
   "source": [
    "It is then called with the history object."
   ]
  },
  {
   "cell_type": "code",
   "execution_count": 15,
   "metadata": {},
   "outputs": [
    {
     "data": {
      "image/png": "[encoded data removed]",
      "text/plain": [
       "<Figure size 640x480 with 1 Axes>"
      ]
     },
     "metadata": {},
     "output_type": "display_data"
    }
   ],
   "source": [
    "plot_loss(history)"
   ]
  },
  {
   "cell_type": "markdown",
   "metadata": {},
   "source": [
    "We can see that although the training loss (blue line) decreases until the end of the training process, the validation loss plateaus much earlier. The model probably starts to overfit at around epoch 25 or so."
   ]
  },
  {
   "cell_type": "markdown",
   "metadata": {},
   "source": [
    "## Evaluation on test data\n",
    "\n",
    "Using the `evaluate()` method of the model on the test data, we can get the evaluation metrics, here MSE. "
   ]
  },
  {
   "cell_type": "code",
   "execution_count": 16,
   "metadata": {},
   "outputs": [
    {
     "name": "stdout",
     "output_type": "stream",
     "text": [
      "194/194 [==============================] - 0s 966us/step - loss: 0.3056 - mse: 0.2721\n"
     ]
    }
   ],
   "source": [
    "mse_test = model.evaluate(X_test_scaled, y_test)"
   ]
  },
  {
   "cell_type": "markdown",
   "metadata": {},
   "source": [
    "The mean squared error on the test data seems to be the same as for the validation data. So we can conclude, that the model generalizes well to unseen data."
   ]
  },
  {
   "cell_type": "markdown",
   "metadata": {},
   "source": [
    "## Making predictions\n",
    "\n",
    "Finally, let us make some predictions on the test data using the `predict()` method. And display the first 10 results."
   ]
  },
  {
   "cell_type": "code",
   "execution_count": 17,
   "metadata": {},
   "outputs": [
    {
     "name": "stdout",
     "output_type": "stream",
     "text": [
      "194/194 [==============================] - 0s 665us/step\n"
     ]
    },
    {
     "data": {
      "text/plain": [
       "array([[0.5207906],\n",
       "       [1.2242938],\n",
       "       [5.188799 ],\n",
       "       [2.4511456],\n",
       "       [2.8379922],\n",
       "       [1.6648972],\n",
       "       [2.448531 ],\n",
       "       [1.5463343],\n",
       "       [2.6095223],\n",
       "       [4.7722797]], dtype=float32)"
      ]
     },
     "execution_count": 17,
     "metadata": {},
     "output_type": "execute_result"
    }
   ],
   "source": [
    "y_pred = model.predict(X_test_scaled)\n",
    "\n",
    "y_pred[0:10]"
   ]
  },
  {
   "cell_type": "markdown",
   "metadata": {},
   "source": [
    "And also output the real target values to compare them."
   ]
  },
  {
   "cell_type": "code",
   "execution_count": 18,
   "metadata": {},
   "outputs": [
    {
     "name": "stdout",
     "output_type": "stream",
     "text": [
      "y_pred: [0.5207906], y_test: 0.477\n",
      "y_pred: [1.2242938], y_test: 0.458\n",
      "y_pred: [5.188799], y_test: 5.00001\n",
      "y_pred: [2.4511456], y_test: 2.186\n",
      "y_pred: [2.8379922], y_test: 2.78\n",
      "y_pred: [1.6648972], y_test: 1.587\n",
      "y_pred: [2.448531], y_test: 1.982\n",
      "y_pred: [1.5463343], y_test: 1.575\n",
      "y_pred: [2.6095223], y_test: 3.4\n",
      "y_pred: [4.7722797], y_test: 4.466\n"
     ]
    }
   ],
   "source": [
    "#Comparing the predicted to to testing data.\n",
    "\n",
    "for pred, actual in zip(y_pred[0:10], y_test[0:10]):\n",
    "    print(f'y_pred: {pred}, y_test: {actual}')"
   ]
  },
  {
   "cell_type": "markdown",
   "metadata": {},
   "source": [
    "Be reminded, that the predicted housing prices are in \\\\$100.000. Although the predicted results seem to be quite off, the model still follows the general trend of the prices. High prices are high, and low prices are low.\n",
    "\n",
    "The next function takes the true target values and the predicted house prices and plots a scatterplot."
   ]
  },
  {
   "cell_type": "code",
   "execution_count": 19,
   "metadata": {},
   "outputs": [],
   "source": [
    "def plot_diff(y_true, y_pred, title = ''):\n",
    "    plt.scatter(y_true, y_pred)\n",
    "    plt.title(title)\n",
    "    plt.xlabel('True Values')\n",
    "    plt.ylabel('Predictions')\n",
    "    plt.axis = ('equal')\n",
    "    plt.axis = ('square')\n",
    "    plt.xlim(plt.xlim())\n",
    "    plt.ylim(plt.ylim())\n",
    "    plt.plot([-500, 500], [-500, 500])"
   ]
  },
  {
   "cell_type": "code",
   "execution_count": 20,
   "metadata": {},
   "outputs": [
    {
     "data": {
      "image/png": "[encoded data removed]",
      "text/plain": [
       "<Figure size 640x480 with 1 Axes>"
      ]
     },
     "metadata": {},
     "output_type": "display_data"
    }
   ],
   "source": [
    "plot_diff(y_test, y_pred)"
   ]
  },
  {
   "cell_type": "markdown",
   "metadata": {},
   "source": [
    "We can see that the model follows the general trend."
   ]
  },
  {
   "cell_type": "markdown",
   "metadata": {},
   "source": [
    "## Saving and loading a model\n",
    "\n",
    "You can use the `ModelCheckpoint` callback to save your model. \n",
    "This callback allows you to specify the metric to monitor during training and validation (usually this is the validation loss, or some other validation metric). It saves the model only when this metric has improved.\n",
    "For testing, you then need to load the best model again.\n"
   ]
  },
  {
   "cell_type": "code",
   "execution_count": 21,
   "metadata": {
    "tags": []
   },
   "outputs": [
    {
     "name": "stdout",
     "output_type": "stream",
     "text": [
      "Epoch 1/50\n",
      "346/362 [===========================>..] - ETA: 0s - loss: 0.8813 - mse: 0.7806\n",
      "Epoch 1: val_loss improved from inf to 0.49411, saving model to best_model.history\n",
      "INFO:tensorflow:Assets written to: best_model.history/assets\n",
      "362/362 [==============================] - 3s 5ms/step - loss: 0.8624 - mse: 0.7619 - val_loss: 0.4941 - val_mse: 0.3972\n",
      "Epoch 2/50\n",
      "346/362 [===========================>..] - ETA: 0s - loss: 0.4677 - mse: 0.3741\n",
      "Epoch 2: val_loss improved from 0.49411 to 0.47362, saving model to best_model.history\n",
      "INFO:tensorflow:Assets written to: best_model.history/assets\n",
      "362/362 [==============================] - 1s 4ms/step - loss: 0.4668 - mse: 0.3733 - val_loss: 0.4736 - val_mse: 0.3833\n",
      "Epoch 3/50\n",
      "351/362 [============================>.] - ETA: 0s - loss: 0.4416 - mse: 0.3545\n",
      "Epoch 3: val_loss improved from 0.47362 to 0.45459, saving model to best_model.history\n",
      "INFO:tensorflow:Assets written to: best_model.history/assets\n",
      "362/362 [==============================] - 1s 4ms/step - loss: 0.4406 - mse: 0.3536 - val_loss: 0.4546 - val_mse: 0.3704\n",
      "Epoch 4/50\n",
      "350/362 [============================>.] - ETA: 0s - loss: 0.4250 - mse: 0.3434\n",
      "Epoch 4: val_loss improved from 0.45459 to 0.41488, saving model to best_model.history\n",
      "INFO:tensorflow:Assets written to: best_model.history/assets\n",
      "362/362 [==============================] - 1s 3ms/step - loss: 0.4228 - mse: 0.3412 - val_loss: 0.4149 - val_mse: 0.3358\n",
      "Epoch 5/50\n",
      "350/362 [============================>.] - ETA: 0s - loss: 0.4093 - mse: 0.3324\n",
      "Epoch 5: val_loss did not improve from 0.41488\n",
      "362/362 [==============================] - 1s 2ms/step - loss: 0.4090 - mse: 0.3322 - val_loss: 0.4351 - val_mse: 0.3607\n",
      "Epoch 6/50\n",
      "343/362 [===========================>..] - ETA: 0s - loss: 0.4010 - mse: 0.3281\n",
      "Epoch 6: val_loss improved from 0.41488 to 0.41012, saving model to best_model.history\n",
      "INFO:tensorflow:Assets written to: best_model.history/assets\n",
      "362/362 [==============================] - 1s 3ms/step - loss: 0.3982 - mse: 0.3253 - val_loss: 0.4101 - val_mse: 0.3392\n",
      "Epoch 7/50\n",
      "354/362 [============================>.] - ETA: 0s - loss: 0.3836 - mse: 0.3144\n",
      "Epoch 7: val_loss improved from 0.41012 to 0.39711, saving model to best_model.history\n",
      "INFO:tensorflow:Assets written to: best_model.history/assets\n",
      "362/362 [==============================] - 1s 4ms/step - loss: 0.3828 - mse: 0.3135 - val_loss: 0.3971 - val_mse: 0.3295\n",
      "Epoch 8/50\n",
      "337/362 [==========================>...] - ETA: 0s - loss: 0.3788 - mse: 0.3126\n",
      "Epoch 8: val_loss improved from 0.39711 to 0.37506, saving model to best_model.history\n",
      "INFO:tensorflow:Assets written to: best_model.history/assets\n",
      "362/362 [==============================] - 1s 3ms/step - loss: 0.3766 - mse: 0.3104 - val_loss: 0.3751 - val_mse: 0.3102\n",
      "Epoch 9/50\n",
      "358/362 [============================>.] - ETA: 0s - loss: 0.3773 - mse: 0.3137\n",
      "Epoch 9: val_loss improved from 0.37506 to 0.37329, saving model to best_model.history\n",
      "INFO:tensorflow:Assets written to: best_model.history/assets\n",
      "362/362 [==============================] - 1s 3ms/step - loss: 0.3781 - mse: 0.3145 - val_loss: 0.3733 - val_mse: 0.3109\n",
      "Epoch 10/50\n",
      "359/362 [============================>.] - ETA: 0s - loss: 0.3642 - mse: 0.3031\n",
      "Epoch 10: val_loss improved from 0.37329 to 0.36405, saving model to best_model.history\n",
      "INFO:tensorflow:Assets written to: best_model.history/assets\n",
      "362/362 [==============================] - 2s 4ms/step - loss: 0.3639 - mse: 0.3028 - val_loss: 0.3640 - val_mse: 0.3041\n",
      "Epoch 11/50\n",
      "359/362 [============================>.] - ETA: 0s - loss: 0.3604 - mse: 0.3014\n",
      "Epoch 11: val_loss did not improve from 0.36405\n",
      "362/362 [==============================] - 1s 2ms/step - loss: 0.3598 - mse: 0.3008 - val_loss: 0.3788 - val_mse: 0.3211\n",
      "Epoch 12/50\n",
      "362/362 [==============================] - ETA: 0s - loss: 0.3530 - mse: 0.2963\n",
      "Epoch 12: val_loss did not improve from 0.36405\n",
      "362/362 [==============================] - 1s 2ms/step - loss: 0.3530 - mse: 0.2963 - val_loss: 0.3881 - val_mse: 0.3321\n",
      "Epoch 13/50\n",
      "360/362 [============================>.] - ETA: 0s - loss: 0.3558 - mse: 0.3008\n",
      "Epoch 13: val_loss did not improve from 0.36405\n",
      "362/362 [==============================] - 1s 2ms/step - loss: 0.3558 - mse: 0.3008 - val_loss: 0.3876 - val_mse: 0.3334\n",
      "Epoch 14/50\n",
      "361/362 [============================>.] - ETA: 0s - loss: 0.3468 - mse: 0.2936\n",
      "Epoch 14: val_loss improved from 0.36405 to 0.36367, saving model to best_model.history\n",
      "INFO:tensorflow:Assets written to: best_model.history/assets\n",
      "362/362 [==============================] - 1s 3ms/step - loss: 0.3468 - mse: 0.2936 - val_loss: 0.3637 - val_mse: 0.3115\n",
      "Epoch 15/50\n",
      "359/362 [============================>.] - ETA: 0s - loss: 0.3463 - mse: 0.2950\n",
      "Epoch 15: val_loss did not improve from 0.36367\n",
      "362/362 [==============================] - 1s 2ms/step - loss: 0.3467 - mse: 0.2953 - val_loss: 0.3644 - val_mse: 0.3134\n",
      "Epoch 16/50\n",
      "361/362 [============================>.] - ETA: 0s - loss: 0.3396 - mse: 0.2896\n",
      "Epoch 16: val_loss improved from 0.36367 to 0.35344, saving model to best_model.history\n",
      "INFO:tensorflow:Assets written to: best_model.history/assets\n",
      "362/362 [==============================] - 1s 3ms/step - loss: 0.3396 - mse: 0.2895 - val_loss: 0.3534 - val_mse: 0.3038\n",
      "Epoch 17/50\n",
      "348/362 [===========================>..] - ETA: 0s - loss: 0.3321 - mse: 0.2834\n",
      "Epoch 17: val_loss improved from 0.35344 to 0.34550, saving model to best_model.history\n",
      "INFO:tensorflow:Assets written to: best_model.history/assets\n",
      "362/362 [==============================] - 1s 3ms/step - loss: 0.3324 - mse: 0.2837 - val_loss: 0.3455 - val_mse: 0.2974\n",
      "Epoch 18/50\n",
      "360/362 [============================>.] - ETA: 0s - loss: 0.3326 - mse: 0.2851\n",
      "Epoch 18: val_loss did not improve from 0.34550\n",
      "362/362 [==============================] - 1s 2ms/step - loss: 0.3336 - mse: 0.2862 - val_loss: 0.3834 - val_mse: 0.3365\n",
      "Epoch 19/50\n",
      "348/362 [===========================>..] - ETA: 0s - loss: 0.3410 - mse: 0.2946\n",
      "Epoch 19: val_loss improved from 0.34550 to 0.33756, saving model to best_model.history\n",
      "INFO:tensorflow:Assets written to: best_model.history/assets\n",
      "362/362 [==============================] - 1s 3ms/step - loss: 0.3421 - mse: 0.2958 - val_loss: 0.3376 - val_mse: 0.2921\n",
      "Epoch 20/50\n",
      "339/362 [===========================>..] - ETA: 0s - loss: 0.3248 - mse: 0.2796\n",
      "Epoch 20: val_loss did not improve from 0.33756\n",
      "362/362 [==============================] - 1s 2ms/step - loss: 0.3266 - mse: 0.2814 - val_loss: 0.3378 - val_mse: 0.2931\n",
      "Epoch 21/50\n",
      "340/362 [===========================>..] - ETA: 0s - loss: 0.3254 - mse: 0.2811\n",
      "Epoch 21: val_loss improved from 0.33756 to 0.32801, saving model to best_model.history\n",
      "INFO:tensorflow:Assets written to: best_model.history/assets\n",
      "362/362 [==============================] - 1s 3ms/step - loss: 0.3236 - mse: 0.2793 - val_loss: 0.3280 - val_mse: 0.2843\n",
      "Epoch 22/50\n",
      "359/362 [============================>.] - ETA: 0s - loss: 0.3227 - mse: 0.2792\n",
      "Epoch 22: val_loss did not improve from 0.32801\n",
      "362/362 [==============================] - 1s 2ms/step - loss: 0.3227 - mse: 0.2793 - val_loss: 0.5748 - val_mse: 0.5316\n",
      "Epoch 23/50\n",
      "340/362 [===========================>..] - ETA: 0s - loss: 0.3366 - mse: 0.2934\n",
      "Epoch 23: val_loss did not improve from 0.32801\n",
      "362/362 [==============================] - 1s 2ms/step - loss: 0.3324 - mse: 0.2893 - val_loss: 0.3289 - val_mse: 0.2862\n",
      "Epoch 24/50\n",
      "356/362 [============================>.] - ETA: 0s - loss: 0.3209 - mse: 0.2784\n",
      "Epoch 24: val_loss did not improve from 0.32801\n",
      "362/362 [==============================] - 1s 2ms/step - loss: 0.3218 - mse: 0.2793 - val_loss: 0.3295 - val_mse: 0.2872\n",
      "Epoch 25/50\n",
      "337/362 [==========================>...] - ETA: 0s - loss: 0.3184 - mse: 0.2764\n",
      "Epoch 25: val_loss did not improve from 0.32801\n",
      "362/362 [==============================] - 1s 2ms/step - loss: 0.3173 - mse: 0.2753 - val_loss: 0.3359 - val_mse: 0.2943\n",
      "Epoch 26/50\n",
      "362/362 [==============================] - ETA: 0s - loss: 0.3166 - mse: 0.2753\n",
      "Epoch 26: val_loss did not improve from 0.32801\n",
      "362/362 [==============================] - 1s 2ms/step - loss: 0.3166 - mse: 0.2753 - val_loss: 0.3403 - val_mse: 0.2991\n",
      "Epoch 27/50\n",
      "357/362 [============================>.] - ETA: 0s - loss: 0.3148 - mse: 0.2739\n",
      "Epoch 27: val_loss did not improve from 0.32801\n",
      "362/362 [==============================] - 1s 2ms/step - loss: 0.3147 - mse: 0.2738 - val_loss: 0.3393 - val_mse: 0.2986\n",
      "Epoch 28/50\n",
      "335/362 [==========================>...] - ETA: 0s - loss: 0.3139 - mse: 0.2735\n",
      "Epoch 28: val_loss did not improve from 0.32801\n",
      "362/362 [==============================] - 1s 2ms/step - loss: 0.3131 - mse: 0.2727 - val_loss: 0.3400 - val_mse: 0.3001\n",
      "Epoch 29/50\n",
      "355/362 [============================>.] - ETA: 0s - loss: 0.3114 - mse: 0.2715\n",
      "Epoch 29: val_loss improved from 0.32801 to 0.32584, saving model to best_model.history\n",
      "INFO:tensorflow:Assets written to: best_model.history/assets\n",
      "362/362 [==============================] - 1s 4ms/step - loss: 0.3120 - mse: 0.2721 - val_loss: 0.3258 - val_mse: 0.2863\n",
      "Epoch 30/50\n",
      "350/362 [============================>.] - ETA: 0s - loss: 0.3084 - mse: 0.2688\n",
      "Epoch 30: val_loss did not improve from 0.32584\n",
      "362/362 [==============================] - 1s 2ms/step - loss: 0.3085 - mse: 0.2690 - val_loss: 0.3322 - val_mse: 0.2932\n",
      "Epoch 31/50\n",
      "349/362 [===========================>..] - ETA: 0s - loss: 0.3058 - mse: 0.2667\n",
      "Epoch 31: val_loss did not improve from 0.32584\n",
      "362/362 [==============================] - 1s 2ms/step - loss: 0.3093 - mse: 0.2701 - val_loss: 0.3273 - val_mse: 0.2885\n",
      "Epoch 32/50\n",
      "359/362 [============================>.] - ETA: 0s - loss: 0.3098 - mse: 0.2710\n",
      "Epoch 32: val_loss improved from 0.32584 to 0.31894, saving model to best_model.history\n",
      "INFO:tensorflow:Assets written to: best_model.history/assets\n",
      "362/362 [==============================] - 2s 5ms/step - loss: 0.3092 - mse: 0.2704 - val_loss: 0.3189 - val_mse: 0.2804\n",
      "Epoch 33/50\n",
      "348/362 [===========================>..] - ETA: 0s - loss: 0.3078 - mse: 0.2694\n",
      "Epoch 33: val_loss did not improve from 0.31894\n",
      "362/362 [==============================] - 1s 2ms/step - loss: 0.3082 - mse: 0.2698 - val_loss: 0.3209 - val_mse: 0.2825\n",
      "Epoch 34/50\n",
      "345/362 [===========================>..] - ETA: 0s - loss: 0.3058 - mse: 0.2676\n",
      "Epoch 34: val_loss improved from 0.31894 to 0.31726, saving model to best_model.history\n",
      "INFO:tensorflow:Assets written to: best_model.history/assets\n",
      "362/362 [==============================] - 1s 3ms/step - loss: 0.3061 - mse: 0.2678 - val_loss: 0.3173 - val_mse: 0.2793\n",
      "Epoch 35/50\n",
      "356/362 [============================>.] - ETA: 0s - loss: 0.3068 - mse: 0.2690\n",
      "Epoch 35: val_loss did not improve from 0.31726\n",
      "362/362 [==============================] - 1s 2ms/step - loss: 0.3063 - mse: 0.2685 - val_loss: 0.3227 - val_mse: 0.2850\n",
      "Epoch 36/50\n",
      "338/362 [===========================>..] - ETA: 0s - loss: 0.2987 - mse: 0.2613\n",
      "Epoch 36: val_loss did not improve from 0.31726\n",
      "362/362 [==============================] - 1s 2ms/step - loss: 0.3059 - mse: 0.2684 - val_loss: 0.3707 - val_mse: 0.3333\n",
      "Epoch 37/50\n",
      "358/362 [============================>.] - ETA: 0s - loss: 0.3029 - mse: 0.2654\n",
      "Epoch 37: val_loss did not improve from 0.31726\n",
      "362/362 [==============================] - 1s 2ms/step - loss: 0.3030 - mse: 0.2655 - val_loss: 0.3226 - val_mse: 0.2854\n",
      "Epoch 38/50\n",
      "359/362 [============================>.] - ETA: 0s - loss: 0.3033 - mse: 0.2662\n",
      "Epoch 38: val_loss did not improve from 0.31726\n",
      "362/362 [==============================] - 1s 2ms/step - loss: 0.3041 - mse: 0.2670 - val_loss: 0.3371 - val_mse: 0.2997\n",
      "Epoch 39/50\n",
      "362/362 [==============================] - ETA: 0s - loss: 0.3035 - mse: 0.2662\n",
      "Epoch 39: val_loss did not improve from 0.31726\n",
      "362/362 [==============================] - 1s 2ms/step - loss: 0.3035 - mse: 0.2662 - val_loss: 0.3212 - val_mse: 0.2842\n",
      "Epoch 40/50\n",
      "335/362 [==========================>...] - ETA: 0s - loss: 0.3020 - mse: 0.2652\n",
      "Epoch 40: val_loss did not improve from 0.31726\n",
      "362/362 [==============================] - 1s 2ms/step - loss: 0.3023 - mse: 0.2654 - val_loss: 0.3233 - val_mse: 0.2865\n",
      "Epoch 41/50\n",
      "335/362 [==========================>...] - ETA: 0s - loss: 0.2981 - mse: 0.2614\n",
      "Epoch 41: val_loss improved from 0.31726 to 0.31546, saving model to best_model.history\n",
      "INFO:tensorflow:Assets written to: best_model.history/assets\n",
      "362/362 [==============================] - 1s 4ms/step - loss: 0.2981 - mse: 0.2615 - val_loss: 0.3155 - val_mse: 0.2789\n",
      "Epoch 42/50\n",
      "354/362 [============================>.] - ETA: 0s - loss: 0.3013 - mse: 0.2648\n",
      "Epoch 42: val_loss did not improve from 0.31546\n",
      "362/362 [==============================] - 1s 2ms/step - loss: 0.3007 - mse: 0.2642 - val_loss: 0.3228 - val_mse: 0.2861\n",
      "Epoch 43/50\n",
      "355/362 [============================>.] - ETA: 0s - loss: 0.3025 - mse: 0.2659\n",
      "Epoch 43: val_loss did not improve from 0.31546\n",
      "362/362 [==============================] - 1s 2ms/step - loss: 0.3040 - mse: 0.2674 - val_loss: 0.3174 - val_mse: 0.2810\n",
      "Epoch 44/50\n",
      "347/362 [===========================>..] - ETA: 0s - loss: 0.2977 - mse: 0.2613\n",
      "Epoch 44: val_loss improved from 0.31546 to 0.31422, saving model to best_model.history\n",
      "INFO:tensorflow:Assets written to: best_model.history/assets\n",
      "362/362 [==============================] - 1s 4ms/step - loss: 0.2991 - mse: 0.2627 - val_loss: 0.3142 - val_mse: 0.2782\n",
      "Epoch 45/50\n",
      "360/362 [============================>.] - ETA: 0s - loss: 0.2982 - mse: 0.2622\n",
      "Epoch 45: val_loss did not improve from 0.31422\n",
      "362/362 [==============================] - 1s 2ms/step - loss: 0.2983 - mse: 0.2622 - val_loss: 0.3289 - val_mse: 0.2928\n",
      "Epoch 46/50\n",
      "338/362 [===========================>..] - ETA: 0s - loss: 0.2973 - mse: 0.2612\n",
      "Epoch 46: val_loss did not improve from 0.31422\n",
      "362/362 [==============================] - 1s 2ms/step - loss: 0.2976 - mse: 0.2615 - val_loss: 0.3337 - val_mse: 0.2976\n",
      "Epoch 47/50\n",
      "337/362 [==========================>...] - ETA: 0s - loss: 0.2962 - mse: 0.2601\n",
      "Epoch 47: val_loss did not improve from 0.31422\n",
      "362/362 [==============================] - 1s 2ms/step - loss: 0.2967 - mse: 0.2606 - val_loss: 0.3267 - val_mse: 0.2911\n",
      "Epoch 48/50\n",
      "338/362 [===========================>..] - ETA: 0s - loss: 0.2966 - mse: 0.2609\n",
      "Epoch 48: val_loss did not improve from 0.31422\n",
      "362/362 [==============================] - 1s 2ms/step - loss: 0.2954 - mse: 0.2596 - val_loss: 0.3222 - val_mse: 0.2866\n",
      "Epoch 49/50\n",
      "362/362 [==============================] - ETA: 0s - loss: 0.2957 - mse: 0.2599\n",
      "Epoch 49: val_loss improved from 0.31422 to 0.31371, saving model to best_model.history\n",
      "INFO:tensorflow:Assets written to: best_model.history/assets\n",
      "362/362 [==============================] - 1s 4ms/step - loss: 0.2957 - mse: 0.2599 - val_loss: 0.3137 - val_mse: 0.2782\n",
      "Epoch 50/50\n",
      "344/362 [===========================>..] - ETA: 0s - loss: 0.2940 - mse: 0.2583\n",
      "Epoch 50: val_loss did not improve from 0.31371\n",
      "362/362 [==============================] - 1s 2ms/step - loss: 0.2919 - mse: 0.2562 - val_loss: 0.3184 - val_mse: 0.2827\n"
     ]
    }
   ],
   "source": [
    "checkpoint = tf.keras.callbacks.ModelCheckpoint(\"best_model.history\", monitor='val_loss', verbose=1, save_best_only=True, mode='min')\n",
    "\n",
    "callbacks_list.append(checkpoint)\n",
    "\n",
    "# Retrain the model\n",
    "\n",
    "l2_lambda = 0.001  \n",
    "\n",
    "model = Sequential([\n",
    "   Dense(100, activation=\"relu\",kernel_regularizer=l2(l2_lambda),input_shape=(X_train.shape[1],)),\n",
    "   Dense(60, activation='relu',kernel_regularizer=l2(l2_lambda)),\n",
    "   Dense(10, activation='relu', kernel_regularizer=l2(l2_lambda)),\n",
    "   Dense(1)\n",
    "])\n",
    "\n",
    "\n",
    "#model.compile(loss=\"mse\", optimizer=tf.keras.optimizers.SGD(learning_rate=1e-2), metrics=\"mse\")\n",
    "\n",
    "model.compile(loss=\"mse\", optimizer=tf.keras.optimizers.Adam(learning_rate=0.001), metrics=\"mse\")\n",
    "\n",
    "history = model.fit(X_train_scaled, y_train, \n",
    "                    epochs=50,\n",
    "                    validation_data=(X_valid_scaled, y_valid),\n",
    "                    callbacks = callbacks_list)\n"
   ]
  },
  {
   "cell_type": "markdown",
   "metadata": {},
   "source": [
    "The model was last saved after epoch 42. Afterwards, the validation loss did not improve for 8 more epochs, so the training ended due to the EarlyStopping callback.\n",
    "\n",
    "Let's now load the best model again and test it."
   ]
  },
  {
   "cell_type": "code",
   "execution_count": 22,
   "metadata": {
    "tags": []
   },
   "outputs": [
    {
     "name": "stdout",
     "output_type": "stream",
     "text": [
      "101/194 [==============>...............] - ETA: 0s - loss: 3144.1995 - mse: 3144.1653"
     ]
    },
    {
     "name": "stderr",
     "output_type": "stream",
     "text": [
      "2023-11-02 19:54:31.693141: W tensorflow/core/util/tensor_slice_reader.cc:97] Could not open best_model.history: DATA_LOSS: file is too short to be an sstable: perhaps your file is in a different file format and you need to use a different restore operator?\n"
     ]
    },
    {
     "name": "stdout",
     "output_type": "stream",
     "text": [
      "194/194 [==============================] - 0s 1ms/step - loss: 3143.5598 - mse: 3143.5251\n",
      "test loss: 3143.559814453125 test mse 3143.525146484375\n"
     ]
    }
   ],
   "source": [
    "# Load the best model\n",
    "model.load_weights('best_model.history')\n",
    "\n",
    "# Evaluate on test set\n",
    "test_loss = model.evaluate(X_test, y_test)\n",
    "print(\"test loss:\", test_loss[0], \"test mse\", test_loss[1])"
   ]
  },
  {
   "cell_type": "markdown",
   "metadata": {
    "tags": []
   },
   "source": [
    "# Summary\n",
    "\n",
    "- Load dataset and perform an exploratory data analysis\n",
    "- Split the data into train, validation and test set. \n",
    "- Scale the data using the train statistics (also exclude outliers, nan values etc).\n",
    "- Create the model architecture, decide on a loss, and compile the model.\n",
    "- Train the model. Callback help to stop at the right time and save the best model.\n",
    "- Load the best model and test it on the evaluation data. In addition to computing relevant metrics, this should also involve plotting some of the predictions. "
   ]
  },
  {
   "cell_type": "code",
   "execution_count": null,
   "metadata": {},
   "outputs": [],
   "source": []
  },
  {
   "cell_type": "code",
   "execution_count": null,
   "metadata": {},
   "outputs": [],
   "source": []
  }
 ],
 "metadata": {
  "kernelspec": {
   "display_name": "Python 3 (ipykernel)",
   "language": "python",
   "name": "python3"
  },
  "language_info": {
   "codemirror_mode": {
    "name": "ipython",
    "version": 3
   },
   "file_extension": ".py",
   "mimetype": "text/x-python",
   "name": "python",
   "nbconvert_exporter": "python",
   "pygments_lexer": "ipython3",
   "version": "3.10.10"
  }
 },
 "nbformat": 4,
 "nbformat_minor": 4
}
